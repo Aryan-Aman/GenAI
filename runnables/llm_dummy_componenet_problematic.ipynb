{
 "cells": [
  {
   "cell_type": "code",
   "execution_count": 18,
   "metadata": {},
   "outputs": [],
   "source": [
    "import random\n",
    "\n",
    "class Nakli_llm:\n",
    "\n",
    "    def __init__(self):\n",
    "        print('llm created')\n",
    "\n",
    "    def predict(self, prompt):\n",
    "        response_list=[\n",
    "            \"delhi is capital of india\"\n",
    "            \"mumbai is financial capital of india\"\n",
    "            \"ahmedabad is manchestar city of india\"\n",
    "            \"ipl 2025 who will win\"\n",
    "            \"AI is artificial intelligence\"\n",
    "        ]\n",
    "\n",
    "        return {'response' : random.choice(response_list)}"
   ]
  },
  {
   "cell_type": "code",
   "execution_count": 26,
   "metadata": {},
   "outputs": [],
   "source": [
    "class NakliPromptTemplate:\n",
    "    def __init__(self, input_varibls, template):\n",
    "        self.input_varibls = input_varibls\n",
    "        self.template = template\n",
    "\n",
    "    def format(self, input_dict):\n",
    "        return self.template.format(**input_dict)"
   ]
  },
  {
   "cell_type": "code",
   "execution_count": 27,
   "metadata": {},
   "outputs": [],
   "source": [
    "template = NakliPromptTemplate(\n",
    "    template=\"write a {length} story about {topic}\",\n",
    "    input_varibls=['topic']\n",
    ")"
   ]
  },
  {
   "cell_type": "code",
   "execution_count": 28,
   "metadata": {},
   "outputs": [],
   "source": [
    "prompt= template.format({'length':'short', 'topic' : 'russia'})"
   ]
  },
  {
   "cell_type": "code",
   "execution_count": 34,
   "metadata": {},
   "outputs": [
    {
     "name": "stdout",
     "output_type": "stream",
     "text": [
      "llm created\n"
     ]
    }
   ],
   "source": [
    "llm= Nakli_llm()"
   ]
  },
  {
   "cell_type": "code",
   "execution_count": 35,
   "metadata": {},
   "outputs": [
    {
     "data": {
      "text/plain": [
       "{'response': 'delhi is capital of indiamumbai is financial capital of indiaahmedabad is manchestar city of indiaipl 2025 who will winAI is artificial intelligence'}"
      ]
     },
     "execution_count": 35,
     "metadata": {},
     "output_type": "execute_result"
    }
   ],
   "source": [
    "llm.predict(prompt)"
   ]
  },
  {
   "cell_type": "code",
   "execution_count": 36,
   "metadata": {},
   "outputs": [],
   "source": [
    "class Nakli_llm_chain:\n",
    "    def __init__(self, llm, prompt):\n",
    "        self.llm =llm\n",
    "        self.prompt = prompt\n",
    "    \n",
    "    def run(self, input_dict):\n",
    "        final_prompt = self.prompt.format(input_dict)\n",
    "        res = self.llm.predict(final_prompt)\n",
    "\n",
    "        return res['response']"
   ]
  },
  {
   "cell_type": "code",
   "execution_count": 37,
   "metadata": {},
   "outputs": [],
   "source": [
    "template = NakliPromptTemplate(\n",
    "    template=\"write a {length} story about {topic}\",\n",
    "    input_varibls=['topic']\n",
    ")"
   ]
  },
  {
   "cell_type": "code",
   "execution_count": 38,
   "metadata": {},
   "outputs": [
    {
     "name": "stdout",
     "output_type": "stream",
     "text": [
      "llm created\n"
     ]
    }
   ],
   "source": [
    "llm= Nakli_llm()"
   ]
  },
  {
   "cell_type": "code",
   "execution_count": 39,
   "metadata": {},
   "outputs": [],
   "source": [
    "chain = Nakli_llm_chain(llm, template)"
   ]
  },
  {
   "cell_type": "code",
   "execution_count": 40,
   "metadata": {},
   "outputs": [
    {
     "data": {
      "text/plain": [
       "'delhi is capital of indiamumbai is financial capital of indiaahmedabad is manchestar city of indiaipl 2025 who will winAI is artificial intelligence'"
      ]
     },
     "execution_count": 40,
     "metadata": {},
     "output_type": "execute_result"
    }
   ],
   "source": [
    "chain.run({'length':'short', 'topic':'india'})"
   ]
  }
 ],
 "metadata": {
  "kernelspec": {
   "display_name": "venv",
   "language": "python",
   "name": "python3"
  },
  "language_info": {
   "codemirror_mode": {
    "name": "ipython",
    "version": 3
   },
   "file_extension": ".py",
   "mimetype": "text/x-python",
   "name": "python",
   "nbconvert_exporter": "python",
   "pygments_lexer": "ipython3",
   "version": "3.12.4"
  }
 },
 "nbformat": 4,
 "nbformat_minor": 2
}
